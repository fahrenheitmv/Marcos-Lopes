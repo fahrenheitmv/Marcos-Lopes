{
  "nbformat": 4,
  "nbformat_minor": 0,
  "metadata": {
    "colab": {
      "name": "Copy of Copy of Untitled1.ipynb",
      "provenance": [],
      "authorship_tag": "ABX9TyORvfTTTVe4Zq9q1SNRPoV2",
      "include_colab_link": true
    },
    "kernelspec": {
      "name": "python3",
      "display_name": "Python 3"
    }
  },
  "cells": [
    {
      "cell_type": "markdown",
      "metadata": {
        "id": "view-in-github",
        "colab_type": "text"
      },
      "source": [
        "<a href=\"https://colab.research.google.com/github/fahrenheitmv/Marcos-Lopes/blob/master/caso2.ipynb\" target=\"_parent\"><img src=\"https://colab.research.google.com/assets/colab-badge.svg\" alt=\"Open In Colab\"/></a>"
      ]
    },
    {
      "cell_type": "code",
      "metadata": {
        "id": "wX38Ijtj4I1Q",
        "colab_type": "code",
        "outputId": "dabddba4-c2ae-4e79-fd8e-1583ef3a4696",
        "colab": {
          "base_uri": "https://localhost:8080/",
          "height": 129
        }
      },
      "source": [
        "#caso 2\n",
        "\n",
        "g1 = 10\n",
        "g2 = 5\n",
        "g3 = 4\n",
        "\n",
        "media = (g1 + g2 + g3)/3\n",
        "m = media\n",
        "\n",
        "if  g1 >= 3 and g2 >= 3 and g3 >= 3 and media >= 5 :\n",
        "  print (f'Aluno dispensado de realizar a prova final. Media: {m:.2f}')\n",
        "else:\n",
        "  if g1 < 3 or g2 < 3 or g3 < 3 or media < 5 :\n",
        "    print (f'Aluno deverá realizar a prova final. Media: {m:.2f}')\n",
        "\n",
        "    g4 = float(input('g4'))\n",
        "\n",
        "   if g1 >= g2 >= g3: \n",
        "   gm = g1\n",
        "   gn = g2\n",
        "   if g2 >= g1 >= g3:\n",
        "   gm = g2\n",
        "   gn = g1\n",
        "   if g3 >= g1 >= g2:\n",
        "   gm = g2\n",
        "   gn = g1\n",
        "   if g1 >= g3 >= g2:\n",
        "   gm = g1\n",
        "   gn = g3\n",
        "   if g2 >= g3 >= g1:\n",
        "   gm = g2\n",
        "   gn = g3\n",
        "   if g3 >= g2 >= g1:\n",
        "   gm = g3\n",
        "   gn = g2\n",
        "\n",
        "\n",
        "   if g4 >= 3:\n",
        "   m = (gm + gn + g4) / 3\n",
        "    else:\n",
        "      m = (g1 + g2 + g3 + 3*g4) / 6\n",
        "\n",
        "print(f'Media: {m:.2f}')      \n",
        "\n",
        "\n",
        "  \n",
        "\n",
        "\n",
        "  \n",
        "\n"
      ],
      "execution_count": 0,
      "outputs": [
        {
          "output_type": "error",
          "ename": "IndentationError",
          "evalue": "ignored",
          "traceback": [
            "\u001b[0;36m  File \u001b[0;32m\"<ipython-input-15-7424402bf697>\"\u001b[0;36m, line \u001b[0;32m17\u001b[0m\n\u001b[0;31m    if g1 >= g2 >= g3:\u001b[0m\n\u001b[0m                       ^\u001b[0m\n\u001b[0;31mIndentationError\u001b[0m\u001b[0;31m:\u001b[0m unindent does not match any outer indentation level\n"
          ]
        }
      ]
    }
  ]
}